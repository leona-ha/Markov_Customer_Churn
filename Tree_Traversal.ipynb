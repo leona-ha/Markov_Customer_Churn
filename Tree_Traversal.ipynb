{
 "cells": [
  {
   "cell_type": "code",
   "execution_count": 1,
   "metadata": {},
   "outputs": [],
   "source": [
    "TINY_TREE= [\"Blue Whale\", \"Dolphin\"]"
   ]
  },
  {
   "cell_type": "code",
   "execution_count": 2,
   "metadata": {},
   "outputs": [
    {
     "name": "stdout",
     "output_type": "stream",
     "text": [
      "Blue Whale\n",
      "Dolphin\n"
     ]
    }
   ],
   "source": [
    "for x in TINY_TREE:\n",
    "    print(x)"
   ]
  },
  {
   "cell_type": "code",
   "execution_count": 3,
   "metadata": {},
   "outputs": [],
   "source": [
    "MEDIUM_TREE= [\"Blue Whale\", \"Dolphin\", \"Shark\"]"
   ]
  },
  {
   "cell_type": "code",
   "execution_count": 4,
   "metadata": {},
   "outputs": [
    {
     "name": "stdout",
     "output_type": "stream",
     "text": [
      "Blue Whale\n",
      "Dolphin\n",
      "Shark\n"
     ]
    }
   ],
   "source": [
    "for x in MEDIUM_TREE:\n",
    "    if type(x)== str:\n",
    "        print(x)\n",
    "    else:\n",
    "        for y in x:\n",
    "            print(y)"
   ]
  },
  {
   "cell_type": "code",
   "execution_count": 24,
   "metadata": {},
   "outputs": [],
   "source": [
    "BIG_TREE= [[\"Blue Whale\", \"Dolphin\"], \n",
    "                   [\"Shark\", \n",
    "                    [\"Grouper\", \"Barracuda\"]\n",
    "                   ]\n",
    "                  ]"
   ]
  },
  {
   "cell_type": "code",
   "execution_count": 9,
   "metadata": {},
   "outputs": [
    {
     "name": "stdout",
     "output_type": "stream",
     "text": [
      "Blue Whale\n",
      "Dolphin\n",
      "Shark\n",
      "Grouper\n",
      "Barracuda\n"
     ]
    }
   ],
   "source": [
    "for x in MEDIUM_PLUS_TREE:\n",
    "    if type(x)== str:\n",
    "        print(x)\n",
    "    else:\n",
    "        for y in x:\n",
    "            if type(y)== str:\n",
    "                print(y)\n",
    "            else:\n",
    "                for z in y:\n",
    "                    print(z)"
   ]
  },
  {
   "cell_type": "code",
   "execution_count": 10,
   "metadata": {},
   "outputs": [],
   "source": [
    "def traverse(tree):\n",
    "    \"\"\" Traverses a tree that comes as a Python list\"\"\"\n",
    "    for item in tree:\n",
    "        if type(item) == str:\n",
    "            print(item)\n",
    "        else:\n",
    "            traverse(item) #recursion: un-nests the tree"
   ]
  },
  {
   "cell_type": "code",
   "execution_count": 14,
   "metadata": {},
   "outputs": [
    {
     "name": "stdout",
     "output_type": "stream",
     "text": [
      "Blue Whale\n",
      "Dolphin\n",
      "Shark\n",
      "Grouper\n",
      "Barracuda\n"
     ]
    }
   ],
   "source": [
    "traverse(BIG_TREE)"
   ]
  },
  {
   "cell_type": "code",
   "execution_count": 25,
   "metadata": {},
   "outputs": [
    {
     "name": "stdout",
     "output_type": "stream",
     "text": [
      "Barracuda\n",
      "Grouper\n",
      "Shark\n",
      "Dolphin\n",
      "Blue Whale\n"
     ]
    }
   ],
   "source": [
    "todo= [BIG_TREE] # stack data structure\n",
    "while todo:\n",
    "    item= todo.pop() # pop(0) uses a queue instead of a stack\n",
    "    if type(item) == str:\n",
    "        print(item)\n",
    "    else:\n",
    "        todo += item       "
   ]
  },
  {
   "cell_type": "code",
   "execution_count": null,
   "metadata": {},
   "outputs": [],
   "source": []
  }
 ],
 "metadata": {
  "kernelspec": {
   "display_name": "Python 3",
   "language": "python",
   "name": "python3"
  },
  "language_info": {
   "codemirror_mode": {
    "name": "ipython",
    "version": 3
   },
   "file_extension": ".py",
   "mimetype": "text/x-python",
   "name": "python",
   "nbconvert_exporter": "python",
   "pygments_lexer": "ipython3",
   "version": "3.7.3"
  }
 },
 "nbformat": 4,
 "nbformat_minor": 2
}
